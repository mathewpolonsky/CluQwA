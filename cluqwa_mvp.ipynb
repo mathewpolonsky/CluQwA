{
  "cells": [
    {
      "cell_type": "code",
      "execution_count": null,
      "metadata": {
        "colab": {
          "base_uri": "https://localhost:8080/"
        },
        "id": "gOSmbfhPkR2p",
        "outputId": "49c68263-bb0a-4c10-8356-a348eac3bdcb"
      },
      "outputs": [
        {
          "output_type": "stream",
          "name": "stdout",
          "text": [
            "Collecting git+https://github.com/UKPLab/sentence-transformers\n",
            "  Cloning https://github.com/UKPLab/sentence-transformers to /tmp/pip-req-build-8kxrh9q_\n",
            "  Running command git clone --filter=blob:none --quiet https://github.com/UKPLab/sentence-transformers /tmp/pip-req-build-8kxrh9q_\n",
            "  Resolved https://github.com/UKPLab/sentence-transformers to commit a458ce79c40fef93d5ecc66931b446ea65fdd017\n",
            "  Preparing metadata (setup.py) ... \u001b[?25l\u001b[?25hdone\n",
            "Requirement already satisfied: transformers<5.0.0,>=4.6.0 in /usr/local/lib/python3.10/dist-packages (from sentence-transformers==2.2.2) (4.33.1)\n",
            "Requirement already satisfied: tqdm in /usr/local/lib/python3.10/dist-packages (from sentence-transformers==2.2.2) (4.66.1)\n",
            "Requirement already satisfied: torch>=1.6.0 in /usr/local/lib/python3.10/dist-packages (from sentence-transformers==2.2.2) (2.0.1+cu118)\n",
            "Requirement already satisfied: torchvision in /usr/local/lib/python3.10/dist-packages (from sentence-transformers==2.2.2) (0.15.2+cu118)\n",
            "Requirement already satisfied: numpy in /usr/local/lib/python3.10/dist-packages (from sentence-transformers==2.2.2) (1.23.5)\n",
            "Requirement already satisfied: scikit-learn in /usr/local/lib/python3.10/dist-packages (from sentence-transformers==2.2.2) (1.2.2)\n",
            "Requirement already satisfied: scipy in /usr/local/lib/python3.10/dist-packages (from sentence-transformers==2.2.2) (1.10.1)\n",
            "Requirement already satisfied: nltk in /usr/local/lib/python3.10/dist-packages (from sentence-transformers==2.2.2) (3.8.1)\n",
            "Requirement already satisfied: sentencepiece in /usr/local/lib/python3.10/dist-packages (from sentence-transformers==2.2.2) (0.1.99)\n",
            "Requirement already satisfied: huggingface-hub>=0.4.0 in /usr/local/lib/python3.10/dist-packages (from sentence-transformers==2.2.2) (0.16.4)\n",
            "Requirement already satisfied: filelock in /usr/local/lib/python3.10/dist-packages (from huggingface-hub>=0.4.0->sentence-transformers==2.2.2) (3.12.2)\n",
            "Requirement already satisfied: fsspec in /usr/local/lib/python3.10/dist-packages (from huggingface-hub>=0.4.0->sentence-transformers==2.2.2) (2023.6.0)\n",
            "Requirement already satisfied: requests in /usr/local/lib/python3.10/dist-packages (from huggingface-hub>=0.4.0->sentence-transformers==2.2.2) (2.31.0)\n",
            "Requirement already satisfied: pyyaml>=5.1 in /usr/local/lib/python3.10/dist-packages (from huggingface-hub>=0.4.0->sentence-transformers==2.2.2) (6.0.1)\n",
            "Requirement already satisfied: typing-extensions>=3.7.4.3 in /usr/local/lib/python3.10/dist-packages (from huggingface-hub>=0.4.0->sentence-transformers==2.2.2) (4.7.1)\n",
            "Requirement already satisfied: packaging>=20.9 in /usr/local/lib/python3.10/dist-packages (from huggingface-hub>=0.4.0->sentence-transformers==2.2.2) (23.1)\n",
            "Requirement already satisfied: sympy in /usr/local/lib/python3.10/dist-packages (from torch>=1.6.0->sentence-transformers==2.2.2) (1.12)\n",
            "Requirement already satisfied: networkx in /usr/local/lib/python3.10/dist-packages (from torch>=1.6.0->sentence-transformers==2.2.2) (3.1)\n",
            "Requirement already satisfied: jinja2 in /usr/local/lib/python3.10/dist-packages (from torch>=1.6.0->sentence-transformers==2.2.2) (3.1.2)\n",
            "Requirement already satisfied: triton==2.0.0 in /usr/local/lib/python3.10/dist-packages (from torch>=1.6.0->sentence-transformers==2.2.2) (2.0.0)\n",
            "Requirement already satisfied: cmake in /usr/local/lib/python3.10/dist-packages (from triton==2.0.0->torch>=1.6.0->sentence-transformers==2.2.2) (3.27.4.1)\n",
            "Requirement already satisfied: lit in /usr/local/lib/python3.10/dist-packages (from triton==2.0.0->torch>=1.6.0->sentence-transformers==2.2.2) (16.0.6)\n",
            "Requirement already satisfied: regex!=2019.12.17 in /usr/local/lib/python3.10/dist-packages (from transformers<5.0.0,>=4.6.0->sentence-transformers==2.2.2) (2023.6.3)\n",
            "Requirement already satisfied: tokenizers!=0.11.3,<0.14,>=0.11.1 in /usr/local/lib/python3.10/dist-packages (from transformers<5.0.0,>=4.6.0->sentence-transformers==2.2.2) (0.13.3)\n",
            "Requirement already satisfied: safetensors>=0.3.1 in /usr/local/lib/python3.10/dist-packages (from transformers<5.0.0,>=4.6.0->sentence-transformers==2.2.2) (0.3.3)\n",
            "Requirement already satisfied: click in /usr/local/lib/python3.10/dist-packages (from nltk->sentence-transformers==2.2.2) (8.1.7)\n",
            "Requirement already satisfied: joblib in /usr/local/lib/python3.10/dist-packages (from nltk->sentence-transformers==2.2.2) (1.3.2)\n",
            "Requirement already satisfied: threadpoolctl>=2.0.0 in /usr/local/lib/python3.10/dist-packages (from scikit-learn->sentence-transformers==2.2.2) (3.2.0)\n",
            "Requirement already satisfied: pillow!=8.3.*,>=5.3.0 in /usr/local/lib/python3.10/dist-packages (from torchvision->sentence-transformers==2.2.2) (9.4.0)\n",
            "Requirement already satisfied: MarkupSafe>=2.0 in /usr/local/lib/python3.10/dist-packages (from jinja2->torch>=1.6.0->sentence-transformers==2.2.2) (2.1.3)\n",
            "Requirement already satisfied: charset-normalizer<4,>=2 in /usr/local/lib/python3.10/dist-packages (from requests->huggingface-hub>=0.4.0->sentence-transformers==2.2.2) (3.2.0)\n",
            "Requirement already satisfied: idna<4,>=2.5 in /usr/local/lib/python3.10/dist-packages (from requests->huggingface-hub>=0.4.0->sentence-transformers==2.2.2) (3.4)\n",
            "Requirement already satisfied: urllib3<3,>=1.21.1 in /usr/local/lib/python3.10/dist-packages (from requests->huggingface-hub>=0.4.0->sentence-transformers==2.2.2) (2.0.4)\n",
            "Requirement already satisfied: certifi>=2017.4.17 in /usr/local/lib/python3.10/dist-packages (from requests->huggingface-hub>=0.4.0->sentence-transformers==2.2.2) (2023.7.22)\n",
            "Requirement already satisfied: mpmath>=0.19 in /usr/local/lib/python3.10/dist-packages (from sympy->torch>=1.6.0->sentence-transformers==2.2.2) (1.3.0)\n",
            "Requirement already satisfied: wordcloud in /usr/local/lib/python3.10/dist-packages (1.9.2)\n",
            "Requirement already satisfied: numpy>=1.6.1 in /usr/local/lib/python3.10/dist-packages (from wordcloud) (1.23.5)\n",
            "Requirement already satisfied: pillow in /usr/local/lib/python3.10/dist-packages (from wordcloud) (9.4.0)\n",
            "Requirement already satisfied: matplotlib in /usr/local/lib/python3.10/dist-packages (from wordcloud) (3.7.1)\n",
            "Requirement already satisfied: contourpy>=1.0.1 in /usr/local/lib/python3.10/dist-packages (from matplotlib->wordcloud) (1.1.0)\n",
            "Requirement already satisfied: cycler>=0.10 in /usr/local/lib/python3.10/dist-packages (from matplotlib->wordcloud) (0.11.0)\n",
            "Requirement already satisfied: fonttools>=4.22.0 in /usr/local/lib/python3.10/dist-packages (from matplotlib->wordcloud) (4.42.1)\n",
            "Requirement already satisfied: kiwisolver>=1.0.1 in /usr/local/lib/python3.10/dist-packages (from matplotlib->wordcloud) (1.4.5)\n",
            "Requirement already satisfied: packaging>=20.0 in /usr/local/lib/python3.10/dist-packages (from matplotlib->wordcloud) (23.1)\n",
            "Requirement already satisfied: pyparsing>=2.3.1 in /usr/local/lib/python3.10/dist-packages (from matplotlib->wordcloud) (3.1.1)\n",
            "Requirement already satisfied: python-dateutil>=2.7 in /usr/local/lib/python3.10/dist-packages (from matplotlib->wordcloud) (2.8.2)\n",
            "Requirement already satisfied: six>=1.5 in /usr/local/lib/python3.10/dist-packages (from python-dateutil>=2.7->matplotlib->wordcloud) (1.16.0)\n",
            "Requirement already satisfied: natasha in /usr/local/lib/python3.10/dist-packages (1.6.0)\n",
            "Requirement already satisfied: pymorphy2 in /usr/local/lib/python3.10/dist-packages (from natasha) (0.9.1)\n",
            "Requirement already satisfied: razdel>=0.5.0 in /usr/local/lib/python3.10/dist-packages (from natasha) (0.5.0)\n",
            "Requirement already satisfied: navec>=0.9.0 in /usr/local/lib/python3.10/dist-packages (from natasha) (0.10.0)\n",
            "Requirement already satisfied: slovnet>=0.6.0 in /usr/local/lib/python3.10/dist-packages (from natasha) (0.6.0)\n",
            "Requirement already satisfied: yargy>=0.16.0 in /usr/local/lib/python3.10/dist-packages (from natasha) (0.16.0)\n",
            "Requirement already satisfied: ipymarkup>=0.8.0 in /usr/local/lib/python3.10/dist-packages (from natasha) (0.9.0)\n",
            "Requirement already satisfied: intervaltree>=3 in /usr/local/lib/python3.10/dist-packages (from ipymarkup>=0.8.0->natasha) (3.1.0)\n",
            "Requirement already satisfied: numpy in /usr/local/lib/python3.10/dist-packages (from navec>=0.9.0->natasha) (1.23.5)\n",
            "Requirement already satisfied: dawg-python>=0.7.1 in /usr/local/lib/python3.10/dist-packages (from pymorphy2->natasha) (0.7.2)\n",
            "Requirement already satisfied: pymorphy2-dicts-ru<3.0,>=2.4 in /usr/local/lib/python3.10/dist-packages (from pymorphy2->natasha) (2.4.417127.4579844)\n",
            "Requirement already satisfied: docopt>=0.6 in /usr/local/lib/python3.10/dist-packages (from pymorphy2->natasha) (0.6.2)\n",
            "Requirement already satisfied: sortedcontainers<3.0,>=2.0 in /usr/local/lib/python3.10/dist-packages (from intervaltree>=3->ipymarkup>=0.8.0->natasha) (2.4.0)\n"
          ]
        }
      ],
      "source": [
        "# Тут надо всё скачать\n",
        "\n",
        "!pip install git+https://github.com/UKPLab/sentence-transformers\n",
        "!pip install wordcloud\n",
        "!pip install natasha"
      ]
    },
    {
      "cell_type": "code",
      "execution_count": null,
      "metadata": {
        "colab": {
          "base_uri": "https://localhost:8080/"
        },
        "id": "K4uPa4STzU16",
        "outputId": "9155af39-3cff-4077-b916-208b9481562f"
      },
      "outputs": [
        {
          "output_type": "stream",
          "name": "stdout",
          "text": [
            "Downloading...\n",
            "From: https://drive.google.com/uc?id=1eEeufOBE1O4cXmIJQwlvh0sz0k3qP8jT\n",
            "To: /content/MyVoice_dataset.zip\n",
            "\r  0% 0.00/607k [00:00<?, ?B/s]\r100% 607k/607k [00:00<00:00, 85.7MB/s]\n",
            "replace all/10106.json? [y]es, [n]o, [A]ll, [N]one, [r]ename: A\n"
          ]
        }
      ],
      "source": [
        "# скачивание датасета\n",
        "\n",
        "!gdown 1eEeufOBE1O4cXmIJQwlvh0sz0k3qP8jT\n",
        "!unzip -q MyVoice_dataset.zip"
      ]
    },
    {
      "cell_type": "code",
      "execution_count": null,
      "metadata": {
        "id": "V5RTxIIeHxow"
      },
      "outputs": [],
      "source": []
    },
    {
      "cell_type": "code",
      "execution_count": null,
      "metadata": {
        "id": "v6OFHnNOkQsv"
      },
      "outputs": [],
      "source": [
        "import pandas as pd\n",
        "import numpy as np\n",
        "\n",
        "import os\n",
        "\n",
        "from pathlib import Path\n",
        "\n",
        "from sentence_transformers import SentenceTransformer, util\n",
        "import torch\n",
        "from wordcloud import WordCloud\n",
        "\n",
        "from natasha import MorphVocab\n",
        "\n",
        "import json"
      ]
    },
    {
      "cell_type": "markdown",
      "metadata": {
        "id": "IX9n1Bx6uTNW"
      },
      "source": [
        "### ML"
      ]
    },
    {
      "cell_type": "code",
      "execution_count": null,
      "metadata": {
        "id": "8lg1yBHgx0nY"
      },
      "outputs": [],
      "source": [
        "# Вот это основная функция\n",
        "# В неё передаётся модель и json\n",
        "# Возвращяется json и картинка PIL\n",
        "# Ниже есть пример использования\n",
        "\n",
        "def process_answers(model, data_json: dict):\n",
        "    morph_vocab = MorphVocab()\n",
        "\n",
        "    answers_json = data_json[\"answers\"]\n",
        "\n",
        "    data = [extract_answers(i) for i in answers_json]\n",
        "\n",
        "    corpus = np.array([i[0] for i in data])\n",
        "    true_clusters = np.array([i[1] for i in data])\n",
        "\n",
        "    # corpus = np.array([morph_vocab.normal_forms(i[0]) if len(i[0]) < 2 else i[0] for i in corpus])\n",
        "\n",
        "    codes = model.encode(corpus, convert_to_tensor=True, show_progress_bar=False)\n",
        "\n",
        "    clusters = util.community_detection(codes, min_community_size=1, threshold=.75)\n",
        "\n",
        "    # print(f\"Вопрос: {data_json['question']}\\n\")\n",
        "\n",
        "    full_text = \"\"\n",
        "\n",
        "    for idx, cluster in enumerate(clusters):\n",
        "        # print(\"\\n\".join([text + ' | ' + cluster for (text, cluster) in zip(corpus[cluster], true_clusters[cluster])]), end=\"\\n-------------------\\n\")\n",
        "\n",
        "        full_text += \" \".join(corpus[cluster]) + '\\n'\n",
        "\n",
        "        for i in cluster:\n",
        "            answers_json[i][\"cluster\"] = idx\n",
        "\n",
        "    full_text_norm = \"\"\n",
        "\n",
        "    for word in full_text.split():\n",
        "        full_text_norm += morph_vocab.normal_forms(word)[0] + ' '\n",
        "\n",
        "    wordcloud = WordCloud(\n",
        "        background_color=\"white\", max_words=5000,\n",
        "        contour_width=3, contour_color='steelblue'\n",
        "        ).generate(full_text_norm)\n",
        "\n",
        "    return data_json, wordcloud.to_image()\n",
        "\n",
        "\n",
        "def extract_answers(x):\n",
        "    answer = x[\"corrected\"] if \"corrected\" in x else x[\"answer\"]\n",
        "    cluster = x[\"cluster\"] if \"cluster\" in x else \"\"\n",
        "\n",
        "    return answer, cluster"
      ]
    },
    {
      "cell_type": "code",
      "execution_count": null,
      "metadata": {
        "id": "QXJFdT0_zzTy"
      },
      "outputs": [],
      "source": [
        "# Инициализация модели\n",
        "model = SentenceTransformer('paraphrase-multilingual-mpnet-base-v2')"
      ]
    },
    {
      "cell_type": "code",
      "execution_count": null,
      "metadata": {
        "id": "1WpQL1PpxwC1"
      },
      "outputs": [],
      "source": [
        "# считываем json\n",
        "with open(\"labeled/26594.json\", \"r\") as f:\n",
        "    data_json = json.load(f)"
      ]
    },
    {
      "cell_type": "code",
      "execution_count": null,
      "metadata": {
        "id": "oQMrUFXO0cpo"
      },
      "outputs": [],
      "source": [
        "new_data, img = process_answers(model, data_json)"
      ]
    },
    {
      "cell_type": "code",
      "execution_count": null,
      "metadata": {
        "colab": {
          "base_uri": "https://localhost:8080/",
          "height": 217
        },
        "id": "k7xsEt3f1Fii",
        "outputId": "24cb2b44-6b31-4a08-ac17-72b2465298d1"
      },
      "outputs": [
        {
          "output_type": "execute_result",
          "data": {
            "text/plain": [
              "<PIL.Image.Image image mode=RGB size=400x200>"
            ],
            "image/png": "[encoded data removed]"
          },
          "metadata": {},
          "execution_count": 20
        }
      ],
      "source": [
        "img"
      ]
    },
    {
      "cell_type": "code",
      "execution_count": null,
      "metadata": {
        "colab": {
          "base_uri": "https://localhost:8080/"
        },
        "id": "eGTPLtnz2wxx",
        "outputId": "625921b2-8418-429c-ffe7-bb062bdd27d3"
      },
      "outputs": [
        {
          "output_type": "stream",
          "name": "stdout",
          "text": [
            "Requirement already satisfied: fastapi[all] in /usr/local/lib/python3.10/dist-packages (0.103.1)\n",
            "Requirement already satisfied: anyio<4.0.0,>=3.7.1 in /usr/local/lib/python3.10/dist-packages (from fastapi[all]) (3.7.1)\n",
            "Requirement already satisfied: pydantic!=1.8,!=1.8.1,!=2.0.0,!=2.0.1,!=2.1.0,<3.0.0,>=1.7.4 in /usr/local/lib/python3.10/dist-packages (from fastapi[all]) (2.3.0)\n",
            "Requirement already satisfied: starlette<0.28.0,>=0.27.0 in /usr/local/lib/python3.10/dist-packages (from fastapi[all]) (0.27.0)\n",
            "Requirement already satisfied: typing-extensions>=4.5.0 in /usr/local/lib/python3.10/dist-packages (from fastapi[all]) (4.7.1)\n",
            "Requirement already satisfied: email-validator>=2.0.0 in /usr/local/lib/python3.10/dist-packages (from fastapi[all]) (2.0.0.post2)\n",
            "Requirement already satisfied: httpx>=0.23.0 in /usr/local/lib/python3.10/dist-packages (from fastapi[all]) (0.24.1)\n",
            "Requirement already satisfied: itsdangerous>=1.1.0 in /usr/local/lib/python3.10/dist-packages (from fastapi[all]) (2.1.2)\n",
            "Requirement already satisfied: jinja2>=2.11.2 in /usr/local/lib/python3.10/dist-packages (from fastapi[all]) (3.1.2)\n",
            "Requirement already satisfied: orjson>=3.2.1 in /usr/local/lib/python3.10/dist-packages (from fastapi[all]) (3.9.7)\n",
            "Requirement already satisfied: pydantic-extra-types>=2.0.0 in /usr/local/lib/python3.10/dist-packages (from fastapi[all]) (2.1.0)\n",
            "Requirement already satisfied: pydantic-settings>=2.0.0 in /usr/local/lib/python3.10/dist-packages (from fastapi[all]) (2.0.3)\n",
            "Requirement already satisfied: python-multipart>=0.0.5 in /usr/local/lib/python3.10/dist-packages (from fastapi[all]) (0.0.6)\n",
            "Requirement already satisfied: pyyaml>=5.3.1 in /usr/local/lib/python3.10/dist-packages (from fastapi[all]) (6.0.1)\n",
            "Requirement already satisfied: ujson!=4.0.2,!=4.1.0,!=4.2.0,!=4.3.0,!=5.0.0,!=5.1.0,>=4.0.1 in /usr/local/lib/python3.10/dist-packages (from fastapi[all]) (5.8.0)\n",
            "Requirement already satisfied: uvicorn[standard]>=0.12.0 in /usr/local/lib/python3.10/dist-packages (from fastapi[all]) (0.23.2)\n",
            "Requirement already satisfied: idna>=2.8 in /usr/local/lib/python3.10/dist-packages (from anyio<4.0.0,>=3.7.1->fastapi[all]) (3.4)\n",
            "Requirement already satisfied: sniffio>=1.1 in /usr/local/lib/python3.10/dist-packages (from anyio<4.0.0,>=3.7.1->fastapi[all]) (1.3.0)\n",
            "Requirement already satisfied: exceptiongroup in /usr/local/lib/python3.10/dist-packages (from anyio<4.0.0,>=3.7.1->fastapi[all]) (1.1.3)\n",
            "Requirement already satisfied: dnspython>=2.0.0 in /usr/local/lib/python3.10/dist-packages (from email-validator>=2.0.0->fastapi[all]) (2.4.2)\n",
            "Requirement already satisfied: certifi in /usr/local/lib/python3.10/dist-packages (from httpx>=0.23.0->fastapi[all]) (2023.7.22)\n",
            "Requirement already satisfied: httpcore<0.18.0,>=0.15.0 in /usr/local/lib/python3.10/dist-packages (from httpx>=0.23.0->fastapi[all]) (0.17.3)\n",
            "Requirement already satisfied: MarkupSafe>=2.0 in /usr/local/lib/python3.10/dist-packages (from jinja2>=2.11.2->fastapi[all]) (2.1.3)\n",
            "Requirement already satisfied: annotated-types>=0.4.0 in /usr/local/lib/python3.10/dist-packages (from pydantic!=1.8,!=1.8.1,!=2.0.0,!=2.0.1,!=2.1.0,<3.0.0,>=1.7.4->fastapi[all]) (0.5.0)\n",
            "Requirement already satisfied: pydantic-core==2.6.3 in /usr/local/lib/python3.10/dist-packages (from pydantic!=1.8,!=1.8.1,!=2.0.0,!=2.0.1,!=2.1.0,<3.0.0,>=1.7.4->fastapi[all]) (2.6.3)\n",
            "Requirement already satisfied: python-dotenv>=0.21.0 in /usr/local/lib/python3.10/dist-packages (from pydantic-settings>=2.0.0->fastapi[all]) (1.0.0)\n",
            "Requirement already satisfied: click>=7.0 in /usr/local/lib/python3.10/dist-packages (from uvicorn[standard]>=0.12.0->fastapi[all]) (8.1.7)\n",
            "Requirement already satisfied: h11>=0.8 in /usr/local/lib/python3.10/dist-packages (from uvicorn[standard]>=0.12.0->fastapi[all]) (0.14.0)\n",
            "Requirement already satisfied: httptools>=0.5.0 in /usr/local/lib/python3.10/dist-packages (from uvicorn[standard]>=0.12.0->fastapi[all]) (0.6.0)\n",
            "Requirement already satisfied: uvloop!=0.15.0,!=0.15.1,>=0.14.0 in /usr/local/lib/python3.10/dist-packages (from uvicorn[standard]>=0.12.0->fastapi[all]) (0.17.0)\n",
            "Requirement already satisfied: watchfiles>=0.13 in /usr/local/lib/python3.10/dist-packages (from uvicorn[standard]>=0.12.0->fastapi[all]) (0.20.0)\n",
            "Requirement already satisfied: websockets>=10.4 in /usr/local/lib/python3.10/dist-packages (from uvicorn[standard]>=0.12.0->fastapi[all]) (11.0.3)\n",
            "Requirement already satisfied: pyngrok in /usr/local/lib/python3.10/dist-packages (6.0.0)\n",
            "Requirement already satisfied: PyYAML in /usr/local/lib/python3.10/dist-packages (from pyngrok) (6.0.1)\n"
          ]
        }
      ],
      "source": [
        "!pip install fastapi[all]\n",
        "!pip install pyngrok"
      ]
    },
    {
      "cell_type": "code",
      "execution_count": null,
      "metadata": {
        "colab": {
          "base_uri": "https://localhost:8080/"
        },
        "id": "sYlAFXgBIXbC",
        "outputId": "87a41680-469e-4a29-b083-32c4c4a49147"
      },
      "outputs": [
        {
          "output_type": "stream",
          "name": "stdout",
          "text": [
            "Authtoken saved to configuration file: /root/.ngrok2/ngrok.yml\n"
          ]
        }
      ],
      "source": [
        "!ngrok config add-authtoken"
      ]
    },
    {
      "cell_type": "code",
      "execution_count": null,
      "metadata": {
        "id": "a_RrFX3qxK8Y"
      },
      "outputs": [],
      "source": [
        "import plotly.graph_objects as go\n",
        "import plotly.io as pio\n",
        "\n",
        "def process_answers(model, data_json: dict):\n",
        "    morph_vocab = MorphVocab()\n",
        "\n",
        "    answers = data_json[\"answers\"]\n",
        "\n",
        "    data = [extract_answers(i) for i in answers]\n",
        "\n",
        "    corpus = np.array([i[0] for i in data])\n",
        "    # true_clusters = np.array([i[1] for i in data])\n",
        "\n",
        "    # corpus = np.array([morph_vocab.normal_forms(i[0]) if len(i[0]) < 2 else i[0] for i in corpus])\n",
        "\n",
        "    codes = model.encode(corpus, convert_to_tensor=True, show_progress_bar=False)\n",
        "\n",
        "    clusters = util.community_detection(codes, min_community_size=1, threshold=.75)\n",
        "\n",
        "    # print(f\"Вопрос: {data_json['question']}\\n\")\n",
        "\n",
        "    full_text = \"\"\n",
        "\n",
        "    for idx, cluster in enumerate(clusters):\n",
        "        # print(\"\\n\".join([text + ' | ' + cluster for (text, cluster) in zip(corpus[cluster], true_clusters[cluster])]), end=\"\\n-------------------\\n\")\n",
        "\n",
        "        full_text += \" \".join(corpus[cluster]) + '\\n'\n",
        "\n",
        "        for i in cluster:\n",
        "            answers[i][\"cluster\"] = idx\n",
        "\n",
        "\n",
        "    wordcloud = make_wordcloud(full_text, morph_vocab)\n",
        "\n",
        "    sunburn = make_sunburn(answers, data_json[\"question\"])\n",
        "\n",
        "    return data_json, wordcloud.to_image(), sunburn.to_html()\n",
        "\n",
        "\n",
        "def make_wordcloud(full_text, morph_vocab):\n",
        "    full_text_norm = \"\"\n",
        "\n",
        "    for word in full_text.split():\n",
        "        full_text_norm += morph_vocab.normal_forms(word)[0] + ' '\n",
        "\n",
        "    wordcloud = WordCloud(\n",
        "        background_color=\"white\", max_words=5000,\n",
        "        contour_width=3, contour_color='steelblue'\n",
        "        ).generate(full_text_norm)\n",
        "\n",
        "    return wordcloud\n",
        "\n",
        "\n",
        "def setup_color_pallet():\n",
        "    colors = [\"ff0a54\",\"ff477e\",\"ff5c8a\",\"ff7096\",\"ff85a1\",\"ff99ac\",\"fbb1bd\",\"f9bec7\",\"f7cad0\",\"fae0e4\"]\n",
        "    colors = ['#' + i for i in colors]\n",
        "\n",
        "    pio.templates[\"cluqwa\"] = go.layout.Template(\n",
        "        layout_colorway=colors\n",
        "    )\n",
        "\n",
        "    # setting Google color palette as default\n",
        "    pio.templates.default = \"cluqwa\"\n",
        "\n",
        "\n",
        "def make_sunburn(answers, question):\n",
        "    # np_answers = np.array(answers)\n",
        "    setup_color_pallet()\n",
        "\n",
        "    data = pd.DataFrame(answers)\n",
        "\n",
        "    # print(data)\n",
        "\n",
        "    # data = data.astype(str)\n",
        "\n",
        "    group = data[[\"cluster\", \"count\"]].groupby(\"cluster\").sum()\n",
        "\n",
        "    # group = group.astype(str)\n",
        "\n",
        "    # df = pd.DataFrame(answers)\n",
        "    most_popular_answers = data.sort_values('count', ascending=False).drop_duplicates(\"cluster\").sort_values(\"cluster\")\n",
        "    most_popular_answers = list(most_popular_answers[\"answer\"])\n",
        "\n",
        "    clusters_unique = list(map(str, group[\"count\"].index))\n",
        "\n",
        "    labels = list(most_popular_answers[int(i)] + ' ' for i in clusters_unique) + list(data[\"answer\"])\n",
        "\n",
        "    parents = [''] * len(clusters_unique) + list(most_popular_answers[int(i)] + ' ' for i in data[\"cluster\"])\n",
        "\n",
        "    values = list(group[\"count\"]) + list(data[\"count\"])\n",
        "\n",
        "    fig = go.Figure(go.Sunburst(\n",
        "        labels=labels,\n",
        "        parents=parents,\n",
        "        values=values,\n",
        "    ))\n",
        "\n",
        "    fig.update_layout(\n",
        "        margin = dict(t=50, l=0, r=0, b=0),\n",
        "        title=dict(text=question, yref='paper'),\n",
        "        title_font={\"size\" : 25},\n",
        "        title_x=.5,\n",
        ")\n",
        "\n",
        "    return fig\n",
        "\n",
        "\n",
        "def extract_answers(x):\n",
        "    answer = x[\"corrected\"] if \"corrected\" in x else x[\"answer\"]\n",
        "    cluster = x[\"cluster\"] if \"cluster\" in x else \"\"\n",
        "\n",
        "    return answer, cluster"
      ]
    },
    {
      "cell_type": "code",
      "execution_count": null,
      "metadata": {
        "colab": {
          "base_uri": "https://localhost:8080/"
        },
        "id": "oJ53qdyQHzwJ",
        "outputId": "31b327c7-d0b4-40c4-eebf-7a2058938604"
      },
      "outputs": [
        {
          "metadata": {
            "tags": null
          },
          "name": "stderr",
          "output_type": "stream",
          "text": [
            "WARNING:pyngrok.process.ngrok:t=2023-09-10T05:33:56+0000 lvl=warn msg=\"ngrok config file found at legacy location, move to XDG location\" xdg_path=/root/.config/ngrok/ngrok.yml legacy_path=/root/.ngrok2/ngrok.yml\n"
          ]
        },
        {
          "metadata": {
            "tags": null
          },
          "name": "stdout",
          "output_type": "stream",
          "text": [
            "Public URL: https://741bfd0d3545.ngrok.app\n"
          ]
        },
        {
          "metadata": {
            "tags": null
          },
          "name": "stderr",
          "output_type": "stream",
          "text": [
            "INFO:     Started server process [2778]\n",
            "INFO:     Waiting for application startup.\n",
            "INFO:     Application startup complete.\n",
            "INFO:     Uvicorn running on http://127.0.0.1:8000 (Press CTRL+C to quit)\n"
          ]
        },
        {
          "metadata": {
            "tags": null
          },
          "name": "stdout",
          "output_type": "stream",
          "text": [
            "INFO:     5.18.251.178:0 - \"GET / HTTP/1.1\" 200 OK\n",
            "INFO:     5.18.251.178:0 - \"GET /favicon.ico HTTP/1.1\" 404 Not Found\n",
            "INFO:     35.237.4.214:0 - \"GET / HTTP/1.1\" 200 OK\n",
            "INFO:     91.108.28.235:0 - \"GET / HTTP/1.1\" 200 OK\n",
            "INFO:     91.108.28.235:0 - \"GET /favicon.ico HTTP/1.1\" 404 Not Found\n",
            "<starlette.datastructures.UploadFile object at 0x7e06d586b880>\n",
            "/content/output_data/wordcloud_images/169432407017.png\n",
            "/content/output_data/json/169432407017.json\n",
            "/content/output_data/wordcloud_images/169432407017.png\n",
            "/content/output_data/json/169432407017.json\n",
            "INFO:     91.108.28.235:0 - \"POST /upload HTTP/1.1\" 200 OK\n",
            "<starlette.datastructures.UploadFile object at 0x7e06d763f580>\n",
            "/content/output_data/wordcloud_images/169432466245.png\n",
            "/content/output_data/json/169432466245.json\n",
            "/content/output_data/wordcloud_images/169432466245.png\n",
            "/content/output_data/json/169432466245.json\n",
            "INFO:     5.18.251.178:0 - \"POST /upload HTTP/1.1\" 200 OK\n",
            "INFO:     91.108.28.235:0 - \"GET / HTTP/1.1\" 200 OK\n",
            "<starlette.datastructures.UploadFile object at 0x7e06d5e66140>\n",
            "/content/output_data/wordcloud_images/169432474214.png\n",
            "/content/output_data/json/169432474214.json\n",
            "/content/output_data/wordcloud_images/169432474214.png\n",
            "/content/output_data/json/169432474214.json\n",
            "INFO:     91.108.28.235:0 - \"POST /upload HTTP/1.1\" 200 OK\n",
            "<starlette.datastructures.UploadFile object at 0x7e06d6bd0f40>\n",
            "/content/output_data/wordcloud_images/169432485538.png\n",
            "/content/output_data/json/169432485538.json\n",
            "/content/output_data/wordcloud_images/169432485538.png\n",
            "/content/output_data/json/169432485538.json\n",
            "INFO:     91.108.28.235:0 - \"POST /upload HTTP/1.1\" 200 OK\n",
            "<starlette.datastructures.UploadFile object at 0x7e06d52ac6d0>\n",
            "/content/output_data/wordcloud_images/169432491667.png\n",
            "/content/output_data/json/169432491667.json\n",
            "/content/output_data/wordcloud_images/169432491667.png\n",
            "/content/output_data/json/169432491667.json\n",
            "INFO:     91.108.28.235:0 - \"POST /upload HTTP/1.1\" 200 OK\n",
            "<starlette.datastructures.UploadFile object at 0x7e06d428ccd0>\n",
            "/content/output_data/wordcloud_images/169432493884.png\n",
            "/content/output_data/json/169432493884.json\n",
            "/content/output_data/wordcloud_images/169432493884.png\n",
            "/content/output_data/json/169432493884.json\n",
            "INFO:     91.108.28.235:0 - \"POST /upload HTTP/1.1\" 200 OK\n",
            "INFO:     91.108.28.235:0 - \"GET / HTTP/1.1\" 200 OK\n",
            "<starlette.datastructures.UploadFile object at 0x7e06d52ae230>\n",
            "/content/output_data/wordcloud_images/169432609537.png\n",
            "/content/output_data/json/169432609537.json\n",
            "/content/output_data/wordcloud_images/169432609537.png\n",
            "/content/output_data/json/169432609537.json\n",
            "INFO:     91.108.28.235:0 - \"POST /upload HTTP/1.1\" 200 OK\n",
            "<starlette.datastructures.UploadFile object at 0x7e06d36ed390>\n",
            "/content/output_data/wordcloud_images/169432622645.png\n",
            "/content/output_data/json/169432622645.json\n",
            "/content/output_data/wordcloud_images/169432622645.png\n",
            "/content/output_data/json/169432622645.json\n",
            "INFO:     91.108.28.235:0 - \"POST /upload HTTP/1.1\" 200 OK\n",
            "<starlette.datastructures.UploadFile object at 0x7e06d37579d0>\n",
            "/content/output_data/wordcloud_images/169432652234.png\n",
            "/content/output_data/json/169432652234.json\n",
            "/content/output_data/wordcloud_images/169432652234.png\n",
            "/content/output_data/json/169432652234.json\n",
            "INFO:     91.108.28.235:0 - \"POST /upload HTTP/1.1\" 200 OK\n",
            "<starlette.datastructures.UploadFile object at 0x7e06d3afee90>\n",
            "/content/output_data/wordcloud_images/169432654882.png\n",
            "/content/output_data/json/169432654882.json\n",
            "/content/output_data/wordcloud_images/169432654882.png\n",
            "/content/output_data/json/169432654882.json\n",
            "INFO:     91.108.28.235:0 - \"POST /upload HTTP/1.1\" 200 OK\n",
            "<starlette.datastructures.UploadFile object at 0x7e06d578ad70>\n",
            "/content/output_data/wordcloud_images/169432740371.png\n",
            "/content/output_data/json/169432740371.json\n",
            "/content/output_data/wordcloud_images/169432740371.png\n",
            "/content/output_data/json/169432740371.json\n",
            "INFO:     91.108.28.235:0 - \"POST /upload HTTP/1.1\" 200 OK\n",
            "INFO:     91.108.28.235:0 - \"GET /download?filepath=/output_data/json/169432740371.json HTTP/1.1\" 200 OK\n",
            "INFO:     91.108.28.235:0 - \"GET /download?filepath=/output_data/wordcloud_images/169432740371.png HTTP/1.1\" 200 OK\n"
          ]
        }
      ],
      "source": [
        "import os\n",
        "import sys\n",
        "import json\n",
        "import uvicorn\n",
        "import nest_asyncio\n",
        "import time\n",
        "import re\n",
        "\n",
        "from fastapi import FastAPI, File, UploadFile, Request, Response, HTTPException, Form\n",
        "from fastapi.templating import Jinja2Templates\n",
        "from fastapi.responses import FileResponse\n",
        "\n",
        "from pyngrok import ngrok\n",
        "\n",
        "from PIL import Image\n",
        "\n",
        "app = FastAPI()\n",
        "templates = Jinja2Templates(directory='templates')\n",
        "\n",
        "\n",
        "@app.get('/')\n",
        "def main(request: Request):\n",
        "    return templates.TemplateResponse('main.html', {'request': request})\n",
        "\n",
        "@app.get('/download') #todo for images and json files\n",
        "def download_img(request: Request, filepath: str):\n",
        "    if filepath:\n",
        "        full_path = os.getcwd() + filepath\n",
        "        filename = os.path.basename(filepath)\n",
        "        headers = {'Content-Disposition': f'attachment; filename=\"{filename}\"'}\n",
        "        return FileResponse(full_path, headers=headers, media_type='json')\n",
        "\n",
        "@app.post('/upload')\n",
        "def upload(request: Request, file: UploadFile | None = File()):\n",
        "    try:\n",
        "        print(file)\n",
        "        if file:\n",
        "\n",
        "            #read json\n",
        "            contents = file.file.read()\n",
        "            data = json.loads(contents)\n",
        "\n",
        "            st = time.time()\n",
        "            new_data, img, html = process_answers(model, data)\n",
        "            end = time.time()\n",
        "            model_time = round(end - st, 4)\n",
        "\n",
        "            #create path for image and json\n",
        "            path = str(os.getcwd())\n",
        "            file_id = int(time.time()*100)\n",
        "\n",
        "            rel_img_path = '/output_data/wordcloud_images/' + f\"{file_id}.png\"\n",
        "            rel_json_path = '/output_data/json/' + f\"{file_id}.json\"\n",
        "\n",
        "            img_dest = path + rel_img_path\n",
        "            json_dest = path + rel_json_path\n",
        "\n",
        "            print(img_dest)\n",
        "            print(json_dest)\n",
        "\n",
        "            #save_img\n",
        "            img.save(img_dest)\n",
        "\n",
        "            #save json\n",
        "            with open(json_dest, 'w', encoding='utf-8') as f:\n",
        "                json.dump(new_data, f, ensure_ascii=False)\n",
        "            print(img_dest)\n",
        "            print(json_dest)\n",
        "\n",
        "            #get html plot\n",
        "            match = re.search(r\"<div.*?>\", html)\n",
        "            end_index = match.end()\n",
        "            html_plot = html[end_index:-16]\n",
        "\n",
        "    except:\n",
        "        raise HTTPException(status_code=500, detail='Something went wrong')\n",
        "    finally:\n",
        "        file.file.close()\n",
        "    return templates.TemplateResponse(\n",
        "        \"cluster_plot.html\",\n",
        "        {\n",
        "            \"request\":request,\n",
        "            \"json_path\": rel_json_path,\n",
        "            \"html_plot\": html_plot,\n",
        "            \"img_path\": rel_img_path,\n",
        "            \"time\": model_time\n",
        "        }\n",
        "    )\n",
        "\n",
        "ngrok_tunnel = ngrok.connect(8000)\n",
        "print('Public URL:', ngrok_tunnel.public_url)\n",
        "nest_asyncio.apply()\n",
        "uvicorn.run(app, port=8000)"
      ]
    },
    {
      "cell_type": "code",
      "execution_count": null,
      "metadata": {
        "colab": {
          "base_uri": "https://localhost:8080/"
        },
        "id": "KNjqQH5QeudO",
        "outputId": "d5344462-3120-4ea9-a7ef-9a698043770b"
      },
      "outputs": [
        {
          "output_type": "stream",
          "name": "stdout",
          "text": [
            "ngork: no process found\n"
          ]
        }
      ],
      "source": [
        "!killall ngork"
      ]
    },
    {
      "cell_type": "markdown",
      "metadata": {
        "id": "aVnSsgvNeuSR"
      },
      "source": []
    }
  ],
  "metadata": {
    "colab": {
      "collapsed_sections": [
        "pSbapic1xQTP"
      ],
      "provenance": []
    },
    "kernelspec": {
      "display_name": "general",
      "language": "python",
      "name": "python3"
    },
    "language_info": {
      "codemirror_mode": {
        "name": "ipython",
        "version": 3
      },
      "file_extension": ".py",
      "mimetype": "text/x-python",
      "name": "python",
      "nbconvert_exporter": "python",
      "pygments_lexer": "ipython3",
      "version": "3.9.16"
    }
  },
  "nbformat": 4,
  "nbformat_minor": 0
}